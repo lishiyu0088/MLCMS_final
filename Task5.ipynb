{
 "cells": [
  {
   "cell_type": "markdown",
   "id": "ec6da6c8",
   "metadata": {},
   "source": [
    "# Task 5: Supervised learning"
   ]
  },
  {
   "cell_type": "code",
   "execution_count": 1,
   "id": "ec4165f8",
   "metadata": {},
   "outputs": [],
   "source": [
    "import glob\n",
    "import pandas as pd\n",
    "import numpy as np\n",
    "import time\n",
    "from IPython.display import display, HTML\n",
    "\n",
    "from sklearn.linear_model import LogisticRegression\n",
    "from sklearn.svm import SVC\n",
    "from sklearn.ensemble import RandomForestClassifier"
   ]
  },
  {
   "cell_type": "code",
   "execution_count": 2,
   "id": "231f16ca",
   "metadata": {},
   "outputs": [
    {
     "name": "stderr",
     "output_type": "stream",
     "text": [
      "C:\\Users\\lishi\\anaconda3\\lib\\site-packages\\IPython\\core\\interactiveshell.py:3063: DtypeWarning: Columns (5) have mixed types.Specify dtype option on import or set low_memory=False.\n",
      "  interactivity=interactivity, compiler=compiler, result=result)\n"
     ]
    },
    {
     "data": {
      "text/html": [
       "<div>\n",
       "<style scoped>\n",
       "    .dataframe tbody tr th:only-of-type {\n",
       "        vertical-align: middle;\n",
       "    }\n",
       "\n",
       "    .dataframe tbody tr th {\n",
       "        vertical-align: top;\n",
       "    }\n",
       "\n",
       "    .dataframe thead th {\n",
       "        text-align: right;\n",
       "    }\n",
       "</style>\n",
       "<table border=\"1\" class=\"dataframe\">\n",
       "  <thead>\n",
       "    <tr style=\"text-align: right;\">\n",
       "      <th></th>\n",
       "      <th>altitude</th>\n",
       "      <th>days_elapsed</th>\n",
       "      <th>latitude</th>\n",
       "      <th>longitude</th>\n",
       "      <th>mode</th>\n",
       "      <th>distance</th>\n",
       "      <th>speed</th>\n",
       "      <th>acceleration</th>\n",
       "    </tr>\n",
       "  </thead>\n",
       "  <tbody>\n",
       "    <tr>\n",
       "      <th>22588159</th>\n",
       "      <td>289.0</td>\n",
       "      <td>39781.103808</td>\n",
       "      <td>40.029320</td>\n",
       "      <td>116.411975</td>\n",
       "      <td>8</td>\n",
       "      <td>23.206984</td>\n",
       "      <td>41.772572</td>\n",
       "      <td>-2.795354e-02</td>\n",
       "    </tr>\n",
       "    <tr>\n",
       "      <th>22588160</th>\n",
       "      <td>275.0</td>\n",
       "      <td>39781.103831</td>\n",
       "      <td>40.029111</td>\n",
       "      <td>116.411963</td>\n",
       "      <td>8</td>\n",
       "      <td>23.228950</td>\n",
       "      <td>41.812110</td>\n",
       "      <td>5.491364e-03</td>\n",
       "    </tr>\n",
       "    <tr>\n",
       "      <th>22588161</th>\n",
       "      <td>274.0</td>\n",
       "      <td>39781.103854</td>\n",
       "      <td>40.028904</td>\n",
       "      <td>116.411962</td>\n",
       "      <td>8</td>\n",
       "      <td>22.984443</td>\n",
       "      <td>41.371997</td>\n",
       "      <td>-6.112673e-02</td>\n",
       "    </tr>\n",
       "    <tr>\n",
       "      <th>22588162</th>\n",
       "      <td>274.0</td>\n",
       "      <td>39781.103877</td>\n",
       "      <td>40.028697</td>\n",
       "      <td>116.411961</td>\n",
       "      <td>8</td>\n",
       "      <td>22.984442</td>\n",
       "      <td>41.371996</td>\n",
       "      <td>-2.061781e-07</td>\n",
       "    </tr>\n",
       "    <tr>\n",
       "      <th>22588163</th>\n",
       "      <td>333.0</td>\n",
       "      <td>39781.113623</td>\n",
       "      <td>39.967705</td>\n",
       "      <td>116.412042</td>\n",
       "      <td>8</td>\n",
       "      <td>0.000000</td>\n",
       "      <td>0.000000</td>\n",
       "      <td>0.000000e+00</td>\n",
       "    </tr>\n",
       "  </tbody>\n",
       "</table>\n",
       "</div>"
      ],
      "text/plain": [
       "          altitude  days_elapsed   latitude   longitude  mode   distance  \\\n",
       "22588159     289.0  39781.103808  40.029320  116.411975     8  23.206984   \n",
       "22588160     275.0  39781.103831  40.029111  116.411963     8  23.228950   \n",
       "22588161     274.0  39781.103854  40.028904  116.411962     8  22.984443   \n",
       "22588162     274.0  39781.103877  40.028697  116.411961     8  22.984442   \n",
       "22588163     333.0  39781.113623  39.967705  116.412042     8   0.000000   \n",
       "\n",
       "              speed  acceleration  \n",
       "22588159  41.772572 -2.795354e-02  \n",
       "22588160  41.812110  5.491364e-03  \n",
       "22588161  41.371997 -6.112673e-02  \n",
       "22588162  41.371996 -2.061781e-07  \n",
       "22588163   0.000000  0.000000e+00  "
      ]
     },
     "execution_count": 2,
     "metadata": {},
     "output_type": "execute_result"
    }
   ],
   "source": [
    "col_list = [\"altitude\",\"days_elapsed\",\"latitude\",\"longitude\",\"distance\",\"speed\", \"acceleration\",\"mode\"]\n",
    "df = pd.read_csv(\"df_all.csv\", usecols=col_list)\n",
    "map1 = {'airplane':1, 'bike':2, 'boat':3, 'bus':4, 'car':5, 'motorcycle':6, 'run':7, 'subway':8, 'taxi':9, 'train':10, 'walk':11}\n",
    "df = df.loc[list(map(lambda x: isinstance(x, str),df['mode']))]\n",
    "df['mode']= df['mode'].map(map1)\n",
    "df.tail(5)"
   ]
  },
  {
   "cell_type": "code",
   "execution_count": 3,
   "id": "f908b353",
   "metadata": {},
   "outputs": [
    {
     "name": "stdout",
     "output_type": "stream",
     "text": [
      "3745655\n"
     ]
    }
   ],
   "source": [
    "mask = np.random.rand(len(df)) < 0.7\n",
    "df_train = df[mask]\n",
    "df_test = df[~mask]\n",
    "\n",
    "print(len(df_train))\n",
    "#The columns \n",
    "X_colnames = [\"altitude\",\"days_elapsed\",\"latitude\",\"longitude\",\"distance\",\"speed\", \"acceleration\"]\n",
    "Y_colnames = [\"mode\"]\n",
    "\n",
    "X_train = df_train[X_colnames].values\n",
    "Y_train = np.ravel(df_train[Y_colnames].values)\n",
    "X_test = df_test[X_colnames].values\n",
    "Y_test = np.ravel(df_test[Y_colnames].values)"
   ]
  },
  {
   "cell_type": "code",
   "execution_count": 4,
   "id": "bf4ead7d",
   "metadata": {},
   "outputs": [
    {
     "name": "stderr",
     "output_type": "stream",
     "text": [
      "C:\\Users\\lishi\\anaconda3\\lib\\site-packages\\ipykernel_launcher.py:6: DeprecationWarning: time.clock has been deprecated in Python 3.3 and will be removed from Python 3.8: use time.perf_counter or time.process_time instead\n",
      "  \n",
      "C:\\Users\\lishi\\anaconda3\\lib\\site-packages\\ipykernel_launcher.py:8: DeprecationWarning: time.clock has been deprecated in Python 3.3 and will be removed from Python 3.8: use time.perf_counter or time.process_time instead\n",
      "  \n"
     ]
    },
    {
     "name": "stdout",
     "output_type": "stream",
     "text": [
      "trained Random Forest in 237.37 s.\t Score on training / test set: 0.9989286253005148 / 0.9725284166252666\n"
     ]
    }
   ],
   "source": [
    "rf_classifier = RandomForestClassifier(n_estimators = 18)\n",
    "logreg_classifier = LogisticRegression()\n",
    "svm_classifier = SVC()\n",
    "\n",
    "#Random Forest\n",
    "t_start = time.clock()\n",
    "rf_classifier.fit(X_train, Y_train)\n",
    "t_end = time.clock()\n",
    "t_diff = t_end - t_start\n",
    "\n",
    "train_score = rf_classifier.score(X_train, Y_train)\n",
    "test_score = rf_classifier.score(X_test, Y_test)\n",
    "y_pred_rf= rf_classifier.predict(X_test)\n",
    "print(\"trained Random Forest in {:.2f} s.\\t Score on training / test set: {} / {}\".format(t_diff, train_score, test_score))"
   ]
  },
  {
   "cell_type": "code",
   "execution_count": 5,
   "id": "9e4c022d",
   "metadata": {},
   "outputs": [
    {
     "name": "stderr",
     "output_type": "stream",
     "text": [
      "C:\\Users\\lishi\\anaconda3\\lib\\site-packages\\ipykernel_launcher.py:2: DeprecationWarning: time.clock has been deprecated in Python 3.3 and will be removed from Python 3.8: use time.perf_counter or time.process_time instead\n",
      "  \n",
      "C:\\Users\\lishi\\anaconda3\\lib\\site-packages\\sklearn\\linear_model\\_logistic.py:765: ConvergenceWarning: lbfgs failed to converge (status=1):\n",
      "STOP: TOTAL NO. of ITERATIONS REACHED LIMIT.\n",
      "\n",
      "Increase the number of iterations (max_iter) or scale the data as shown in:\n",
      "    https://scikit-learn.org/stable/modules/preprocessing.html\n",
      "Please also refer to the documentation for alternative solver options:\n",
      "    https://scikit-learn.org/stable/modules/linear_model.html#logistic-regression\n",
      "  extra_warning_msg=_LOGISTIC_SOLVER_CONVERGENCE_MSG)\n",
      "C:\\Users\\lishi\\anaconda3\\lib\\site-packages\\ipykernel_launcher.py:4: DeprecationWarning: time.clock has been deprecated in Python 3.3 and will be removed from Python 3.8: use time.perf_counter or time.process_time instead\n",
      "  after removing the cwd from sys.path.\n"
     ]
    },
    {
     "name": "stdout",
     "output_type": "stream",
     "text": [
      "trained Logistic Regression in 265.62 s.\t Score on training / test set: 0.316278728286508 / 0.316130831649316\n"
     ]
    }
   ],
   "source": [
    "#Logistic Regression\n",
    "t_start = time.clock()\n",
    "logreg_classifier.fit(X_train, Y_train)\n",
    "t_end = time.clock()\n",
    "t_diff = t_end - t_start\n",
    "\n",
    "train_score = logreg_classifier.score(X_train, Y_train)\n",
    "test_score = logreg_classifier.score(X_test, Y_test)\n",
    "y_pred_logreg = logreg_classifier.predict(X_test)\n",
    "print(\"trained Logistic Regression in {:.2f} s.\\t Score on training / test set: {} / {}\".format(t_diff, train_score, test_score))"
   ]
  },
  {
   "cell_type": "code",
   "execution_count": 6,
   "id": "69662282",
   "metadata": {},
   "outputs": [
    {
     "name": "stderr",
     "output_type": "stream",
     "text": [
      "C:\\Users\\lishi\\anaconda3\\lib\\site-packages\\ipykernel_launcher.py:3: DeprecationWarning: time.clock has been deprecated in Python 3.3 and will be removed from Python 3.8: use time.perf_counter or time.process_time instead\n",
      "  This is separate from the ipykernel package so we can avoid doing imports until\n",
      "C:\\Users\\lishi\\anaconda3\\lib\\site-packages\\sklearn\\neural_network\\_multilayer_perceptron.py:617: ConvergenceWarning: Stochastic Optimizer: Maximum iterations (1) reached and the optimization hasn't converged yet.\n",
      "  % self.max_iter, ConvergenceWarning)\n"
     ]
    },
    {
     "name": "stdout",
     "output_type": "stream",
     "text": [
      "Epoch 0: Score on training data: 0.3243731737172804\n",
      "Epoch 1: Score on training data: 0.2914406158602434\n",
      "Epoch 2: Score on training data: 0.2914406158602434\n",
      "Epoch 3: Score on training data: 0.5250595690206386\n",
      "Epoch 4: Score on training data: 0.5548994768605224\n",
      "Epoch 5: Score on training data: 0.5567771190886507\n",
      "Epoch 6: Score on training data: 0.5550260234858789\n",
      "Epoch 7: Score on training data: 0.5607099425868106\n",
      "Epoch 8: Score on training data: 0.5625918564309847\n",
      "Epoch 9: Score on training data: 0.5632790526623515\n",
      "Epoch 10: Score on training data: 0.5640829174069689\n",
      "Epoch 11: Score on training data: 0.5638116697880611\n",
      "Epoch 12: Score on training data: 0.5641926445441452\n",
      "Epoch 13: Score on training data: 0.5648670259273745\n",
      "Epoch 14: Score on training data: 0.5642641941129122\n",
      "Epoch 15: Score on training data: 0.5647810596544529\n",
      "Epoch 16: Score on training data: 0.5654244718213504\n",
      "Epoch 17: Score on training data: 0.5652677569076704\n",
      "Epoch 18: Score on training data: 0.5656724925280091\n",
      "Epoch 19: Score on training data: 0.5648248437189223\n"
     ]
    },
    {
     "name": "stderr",
     "output_type": "stream",
     "text": [
      "C:\\Users\\lishi\\anaconda3\\lib\\site-packages\\ipykernel_launcher.py:10: DeprecationWarning: time.clock has been deprecated in Python 3.3 and will be removed from Python 3.8: use time.perf_counter or time.process_time instead\n",
      "  # Remove the CWD from sys.path while we load stuff.\n"
     ]
    },
    {
     "name": "stdout",
     "output_type": "stream",
     "text": [
      "trained MLP Classifier in 1135.04 s.\t Score on training / test set: 0.5648248437189223 / 0.5648897637893316\n"
     ]
    }
   ],
   "source": [
    "## MLP\n",
    "from sklearn.neural_network import MLPClassifier\n",
    "t_start = time.clock()\n",
    "clf = MLPClassifier(hidden_layer_sizes=(50,50), random_state=1, max_iter=1, warm_start=True)\n",
    "for i in range(20):\n",
    "    clf.fit(X_train, Y_train)\n",
    "    train_score = clf.score(X_train, Y_train)\n",
    "    print(\"Epoch {}: Score on training data: {}\".format(i, train_score))\n",
    "#clf = MLPClassifier(solver='lbfgs', alpha=1e-5,hidden_layer_sizes=(50, 50), random_state=1)\n",
    "t_end = time.clock()\n",
    "t_diff = t_end - t_start\n",
    "\n",
    "train_score = clf.score(X_train, Y_train)\n",
    "test_score = clf.score(X_test, Y_test)\n",
    "y_pred_svm = clf.predict(X_test)\n",
    "print(\"trained MLP Classifier in {:.2f} s.\\t Score on training / test set: {} / {}\".format(t_diff, train_score, test_score))"
   ]
  },
  {
   "cell_type": "code",
   "execution_count": null,
   "id": "b2369ca5",
   "metadata": {},
   "outputs": [],
   "source": []
  },
  {
   "cell_type": "code",
   "execution_count": null,
   "id": "8dc87e67",
   "metadata": {},
   "outputs": [],
   "source": []
  }
 ],
 "metadata": {
  "kernelspec": {
   "display_name": "Python 3",
   "language": "python",
   "name": "python3"
  },
  "language_info": {
   "codemirror_mode": {
    "name": "ipython",
    "version": 3
   },
   "file_extension": ".py",
   "mimetype": "text/x-python",
   "name": "python",
   "nbconvert_exporter": "python",
   "pygments_lexer": "ipython3",
   "version": "3.7.6"
  }
 },
 "nbformat": 4,
 "nbformat_minor": 5
}
